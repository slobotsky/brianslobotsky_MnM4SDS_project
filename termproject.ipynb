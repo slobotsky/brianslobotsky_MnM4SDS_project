{
 "cells": [
  {
   "cell_type": "markdown",
   "metadata": {},
   "source": [
    "# GEOG788P Term Project\n",
    "__\"Food flows between counties in the United States\": Visualization and Analysis__ \n",
    "\n",
    "__Brian Slobotsky__\n",
    "\n",
    "My project is based on a paper published this year in Environmental Research Letters by Lin et al entitled [“Food flows between counties in the United States.”](https://iopscience.iop.org/article/10.1088/1748-9326/ab29ae) The paper used national and subnational data sources to create a model which spatially downscaled commodity flow data to the county scale. \n",
    "\n",
    "So far, I have created a visualization of the dataset with the `plotly` module. I have also created an interactive map which utilizes a Python GUI (via `tkinter`) to allow a user to limit the visualization to a single county, a single commodity category, or switch the flow direction. The output is a `folium` choropleth map.\n",
    "\n",
    "Additionally, I intend to use exploratory spatial data analysis to investigate the spatial interaction of the model. So far, I have created a contiguity matrix. I will investigate if there is spatial autocorrelation globally, if there are meaningful residuals, and where similar values are clustering.\n",
    "\n",
    "Please refer to the comments throughout my code in order to follow my step by step process."
   ]
  },
  {
   "cell_type": "markdown",
   "metadata": {},
   "source": [
    "## Data pre-processing\n",
    "\n",
    "The data in this project comes from three main sources. The first is the paper mentioned above. The second is a table of FIPS codes (5 digit unique values for county-level identification) from the US Census Bureau, which is used to convert FIPS codes in the other two data sources to the names of counties or county equivalents. The third is a shapefile of US counties, read into a geodataframe."
   ]
  },
  {
   "cell_type": "code",
   "execution_count": 1,
   "metadata": {},
   "outputs": [
    {
     "name": "stderr",
     "output_type": "stream",
     "text": [
      "C:\\Users\\Brian\\Anaconda\\lib\\site-packages\\pysal\\explore\\segregation\\network\\network.py:16: UserWarning:\n",
      "\n",
      "You need pandana and urbanaccess to work with segregation's network module\n",
      "You can install them with  `pip install urbanaccess pandana` or `conda install -c udst pandana urbanaccess`\n",
      "\n",
      "C:\\Users\\Brian\\Anaconda\\lib\\site-packages\\pysal\\model\\spvcm\\abstracts.py:10: UserWarning:\n",
      "\n",
      "The `dill` module is required to use the sqlite backend fully.\n",
      "\n"
     ]
    }
   ],
   "source": [
    "import pandas as pd\n",
    "import geopandas as gp\n",
    "import numpy as np\n",
    "import cenpy\n",
    "import matplotlib.pyplot as plt\n",
    "from tkinter import *\n",
    "import folium\n",
    "import plotly.graph_objects as go\n",
    "from plotly import offline\n",
    "from math import log10\n",
    "import webbrowser\n",
    "import os\n",
    "from pysal.lib.weights import weights"
   ]
  },
  {
   "cell_type": "code",
   "execution_count": 2,
   "metadata": {},
   "outputs": [],
   "source": [
    "## loading data ##\n",
    "# paper data\n",
    "f = 'erl_14_8_084011_sd_3.csv'\n",
    "db = pd.read_csv(f)\n",
    "\n",
    "## setting up dictionary between stcg category names and data column abbreviations\n",
    "sctg_dict = {'Live Animals and Fish':'sctg_1', \n",
    "             'Cereal Grains (including seed)':'sctg_2',\n",
    "             'Agricultural Products except Animal Feed, Cereal Grains, and Forage Products':'sctg_3',\n",
    "             'Animal Feed, Eggs, Honey, and Other Products of Animal Origin':'sctg_4',\n",
    "             'Meat, Poultry, Fish, Seafood, and Their Preparations':'sctg_5',\n",
    "             'Milled Grain Products and Preparations, and Bakery Products':'sctg_6',\n",
    "             'Other Prepared Foodstuffs, Fats and Oils':'sctg_7',\n",
    "             'Total':'total'}\n",
    "## variable with category names\n",
    "ckeys = list(sctg_dict.keys())\n",
    "\n",
    "## changing fips codes into five digits\n",
    "a = []\n",
    "for i in db['ori']:\n",
    "    i = str(i)\n",
    "    i = i.zfill(5)\n",
    "    a.append(i)\n",
    "db['ori'] = a\n",
    "\n",
    "b = []\n",
    "for i in db['des']:\n",
    "    i = str(i)\n",
    "    i = i.zfill(5)\n",
    "    b.append(i)\n",
    "db['des'] = b\n",
    "dbi = db.copy()             ## making a copy for later\n",
    "\n",
    "# census data \n",
    "fips = cenpy.explorer.fips_table(\"county\")\n",
    "\n",
    "## creating a fips code column\n",
    "fips[5] = \"\"\n",
    "fips[6] = \"\"\n",
    "\n",
    "a = [] \n",
    "for i in fips[1]:\n",
    "    i = str(i)\n",
    "    i = i.zfill(2)\n",
    "    a.append(i)\n",
    "fips[5] = a\n",
    "\n",
    "b = []\n",
    "for i in fips[2]:\n",
    "    i = str(i)\n",
    "    i = i.zfill(3)\n",
    "    b.append(i)\n",
    "fips[6] = b\n",
    "\n",
    "fips[7] = fips[5] + fips[6]\n",
    "\n",
    "## tidying data\n",
    "fips.columns = ['state','col2','col3','name','col5','FIPS_state','FIPS_county','FIPS']\n",
    "fips.drop(['col2','col3','col5'],axis=1, inplace = True)\n",
    "fips = fips[fips.FIPS_state < '57']\n",
    "\n",
    "fips['fullname'] = fips['name'] + \", \" + fips['state']\n",
    "\n",
    "## creating a dictionary with county names and FIPS codes\n",
    "fipsdict = dict(zip(fips['fullname'],fips['FIPS']))\n",
    "## assigning county names to a variable\n",
    "dkeys = list(fipsdict.keys())\n",
    "\n",
    "# geographic data\n",
    "gdf = gp.read_file(\"counties.shp\")"
   ]
  },
  {
   "cell_type": "markdown",
   "metadata": {},
   "source": [
    "## Plotly Map\n",
    "\n",
    "The main flow map is a work in progress due to the large amount of data. The code below will show only the first 2000 flows (out of more than 160,000) as a HTML file in a new tab of your browser."
   ]
  },
  {
   "cell_type": "code",
   "execution_count": 8,
   "metadata": {},
   "outputs": [
    {
     "data": {
      "text/plain": [
       "'plotly_project.html'"
      ]
     },
     "execution_count": 8,
     "metadata": {},
     "output_type": "execute_result"
    }
   ],
   "source": [
    "# preparing data for main flow map\n",
    "## getting coordinates from centroids for each county\n",
    "countypoints = gdf.copy()\n",
    "countypoints['x'] = countypoints['geometry'].centroid.x\n",
    "countypoints['y'] = countypoints['geometry'].centroid.y\n",
    "countypoints.drop(['geometry'],axis=1, inplace = True)\n",
    "## merging coordinates to paper data by FIPS code\n",
    "### for origin county\n",
    "db = db[db.ori != db.des]                    ## removing intra-county flows to improve performance\n",
    "merged = db.merge(countypoints, how = 'left', left_on='ori', right_on='FIPS')\n",
    "merged['olong'], merged['olat'] = merged['x'], merged['y']\n",
    "merged.drop(['FIPS','x','y'],axis=1, inplace = True)\n",
    "### for destination county\n",
    "latlong_db = merged.merge(countypoints, how = 'left', left_on='des', right_on='FIPS')\n",
    "latlong_db['dlong'], latlong_db['dlat'] = latlong_db['x'], latlong_db['y']\n",
    "latlong_db.drop(['FIPS','x','y'],axis=1, inplace = True)\n",
    "\n",
    "# using plotly for main flow map\n",
    "fig = go.Figure()\n",
    "## creating lines with a for loop\n",
    "for i in range(2000):\n",
    "    fig.add_trace(\n",
    "        go.Scattergeo(\n",
    "            ## using lines and markers\n",
    "            mode = 'lines+markers',\n",
    "            lon = [latlong_db['olong'][i], latlong_db['dlong'][i]],\n",
    "            lat = [latlong_db['olat'][i], latlong_db['dlat'][i]],\n",
    "            ## line width, marker size, and opacity based on 'total' column\n",
    "            line = dict(width = log10(float(latlong_db['total'][i])) / log10(float(latlong_db['total'].max()))\n",
    "                        ,color = 'red'),\n",
    "            marker = dict(size = 5 * (log10(float(latlong_db['total'][i])) / log10(float(latlong_db['total'].max())))),\n",
    "            opacity = 0.05 * (log10(float(latlong_db['total'][i])) / log10(float(latlong_db['total'].max()))),\n",
    "            ## no legend or hovering\n",
    "            showlegend = False,\n",
    "            hoverinfo = 'skip'\n",
    "        )\n",
    "    )\n",
    "## custom layout\n",
    "fig.update_layout(\n",
    "    autosize = False,\n",
    "    width = 900,\n",
    "    height = 600,\n",
    "    margin = go.layout.Margin(l=0, r=0, b=0, t=0, pad=0),\n",
    "    title_text = '<br>Food flows between counties in the United States',\n",
    "    ## setting view and projection\n",
    "    geo = go.layout.Geo(scope = 'north america', projection_type = 'azimuthal equidistant')\n",
    ")\n",
    "## displaying the map\n",
    "offline.plot(fig, filename='plotly_project.html')"
   ]
  },
  {
   "cell_type": "markdown",
   "metadata": {},
   "source": [
    "## Interactive Folium Map\n",
    "\n",
    "The user interface below will launch a pop-up window where you can refine the map to a single county, a single commodity category, or reverse the flow direction visualization between origin and destination. The output will open in a new tab in your browser as a HTML file. To make a new selection, you will need to launch the user interface again by running the block of code again.  "
   ]
  },
  {
   "cell_type": "code",
   "execution_count": 4,
   "metadata": {},
   "outputs": [],
   "source": [
    "# defining a function to convert user inputs into geojson file\n",
    "def select_county(geo_input, dir_input, com_input):\n",
    "    ## defining \"geo_val\" as the fips equivalent of a user inputted county\n",
    "    geo_val = fipsdict.get(geo_input)\n",
    "    ## defining \"com_val\" as the sctg column equivalent of a user inputted sctg category\n",
    "    com_val = sctg_dict.get(com_input)\n",
    "    ## limit to origin db val (single county selection)\n",
    "    limval = db[db.ori == geo_val]\n",
    "    if dir_input == 'Origin':\n",
    "        ## grouping by destination (destination counties for one origin county)\n",
    "        limval = limval.groupby(['des'])[com_val].sum()\n",
    "    else:\n",
    "        ## grouping by origin (origin counties for one destination county)\n",
    "        limval = limval.groupby(['ori'])[com_val].sum()  \n",
    "    ## converting back to dataframe\n",
    "    dfval = pd.DataFrame({'FIPS':limval.index, com_val:limval.values})\n",
    "    ## join total value to gdf by the FIPS column\n",
    "    gdf_new = gdf.merge(dfval, how = 'left', on='FIPS')\n",
    "    ## creating a name column using the fips dictionary to be used in the hovering functionality\n",
    "    a = []\n",
    "    for i in gdf_new['FIPS']:\n",
    "        ## avoiding an indexing error by using try and except statements\n",
    "        try: i = dkeys[list(fipsdict.values()).index(i)]\n",
    "        except: i = 'NaN'\n",
    "        finally: a.append(i)\n",
    "    gdf_new['name'] = a\n",
    "    ## replacing NaN with 0\n",
    "    gdf_new[com_val] = gdf_new[com_val].replace(np.nan, 0)\n",
    "    gdf_new['val'] =  gdf_new[com_val]\n",
    "    ## deleting counties with 0 values to create a manageable geojson size\n",
    "    gdf_new = gdf_new.loc[gdf_new.val > 0, ['FIPS','geometry','name','val']] \n",
    "    gdf_new['val'] = gdf_new['val'].round(2)\n",
    "    ## avoiding error if dataframe is empty (invalid choice combination)\n",
    "    if gdf_new.empty == False:\n",
    "        ## gdf to geojson\n",
    "        gdf_new.to_file(\"output.geojson\", driver=\"GeoJSON\")\n",
    "        ## creating a csv file needed in later code\n",
    "        df1 = pd.DataFrame(gdf_new)\n",
    "        df1.to_csv('gdf.csv')\n",
    "    else:\n",
    "        ## writing or overwriting the csv to be blank to avoid showing a map from a past request\n",
    "        with open(\"gdf.csv\", \"w\") as blank_csv:\n",
    "            blank_csv.close()\n",
    "        ## alerting user of error\n",
    "        print('Input combination does not exist. Please try another combination')"
   ]
  },
  {
   "cell_type": "code",
   "execution_count": 10,
   "metadata": {},
   "outputs": [
    {
     "name": "stdout",
     "output_type": "stream",
     "text": [
      "You are viewing Total flows with Maricopa County, AZ as the origin county\n"
     ]
    }
   ],
   "source": [
    "## User interface using the tkinter module ##\n",
    "\n",
    "# setting the window design\n",
    "root = Tk()\n",
    "mainframe = Frame(root)\n",
    "mainframe.grid(column=0,row=0,sticky=(N,W,E,S))\n",
    "mainframe.columnconfigure(0, weight = 1)\n",
    "mainframe.rowconfigure(0, weight = 1)\n",
    "mainframe.pack(pady = 100, padx = 100)\n",
    "\n",
    "# three user inputs\n",
    "## first, choosing a county\n",
    "### setting the variable\n",
    "tkvar_geo = StringVar(root)\n",
    "tkvar_geo.set('')                ## no default value\n",
    "choices_geo = dkeys              ## list of items are the keys from the fips dictionary\n",
    "\n",
    "### formatting \n",
    "popupMenu_geo = OptionMenu(mainframe, tkvar_geo, *choices_geo)\n",
    "popupMenu_geo.grid(row = 0, column = 1, sticky = W)\n",
    "Label(mainframe, text=\"Select a county:\").grid(row = 0, column = 0, sticky = W)\n",
    "\n",
    "## second, switching between \"origin\" and \"destination\"\n",
    "### setting the variable\n",
    "tkvar_dir = StringVar(root)\n",
    "tkvar_dir.set('Origin')             ## setting origin as default\n",
    "choices_dir = ['Origin', 'Destination']\n",
    "\n",
    "### formatting\n",
    "popupMenu_dir = OptionMenu(mainframe, tkvar_dir, *choices_dir)\n",
    "popupMenu_dir.grid(row = 2, column = 1, sticky = W)\n",
    "Label(mainframe, text=\"Change flow direction:\").grid(row = 2, column = 0, sticky = W)\n",
    "\n",
    "## third, selecting a SCTG category\n",
    "### setting the variable\n",
    "tkvar_com = StringVar(root)\n",
    "choices_com = ckeys                 ## list of items are the keys from the sctg dictionary\n",
    "tkvar_com.set('Total')              ## setting total as default\n",
    "\n",
    "### formatting\n",
    "popupMenu_com = OptionMenu(mainframe, tkvar_com, *choices_com)\n",
    "popupMenu_com.grid(row = 4, column = 1, sticky = W)\n",
    "Label(mainframe, text=\"Select a commodity category:\").grid(row = 4, column = 0, sticky = W)\n",
    "\n",
    "# adding window title and exit button\n",
    "root.title('Input Window')\n",
    "exitButton = Button(root, text = 'Done', command = root.destroy)\n",
    "exitButton.pack(side = 'bottom')\n",
    "root.mainloop()\n",
    "\n",
    "# assigning user inputs to variables\n",
    "geo_input = tkvar_geo.get()\n",
    "dir_input = tkvar_dir.get()\n",
    "com_input = tkvar_com.get()\n",
    "\n",
    "\n",
    "## using the user inputs to create folium map ##\n",
    "\n",
    "select_county(geo_input, dir_input, com_input)\n",
    "\n",
    "# conditionally displaying the map if combination exists\n",
    "try:\n",
    "    ## csv is needed for values in folium\n",
    "    outcsv = pd.read_csv('gdf.csv')\n",
    "    stop = False\n",
    "except:\n",
    "    ## if csv is blank from earlier, this code will run\n",
    "    stop = True\n",
    "    \n",
    "# displaying the map only for possible combinations\n",
    "if stop == False:\n",
    "    ## need to tidy data again by dropping unneccessary columns and making all FIPS codes 5 digits\n",
    "    outcsv = outcsv.drop(outcsv.columns[[0, 2]], axis=1)\n",
    "    a = []\n",
    "    b = []\n",
    "    for i in outcsv['FIPS']:\n",
    "        i = str(i)\n",
    "        i = i.zfill(5)\n",
    "        a.append(i)\n",
    "        try: c = dkeys[list(fipsdict.values()).index(i)]\n",
    "        except: c = 'NaN'\n",
    "        finally: b.append(c)\n",
    "    outcsv['FIPS'] = a\n",
    "    outcsv['name'] = b\n",
    "    \n",
    "    ## message to user showing the final selection\n",
    "    print('You are viewing {0} flows with {1} as the {2} county'.format(com_input, geo_input, dir_input.lower()))\n",
    "    \n",
    "    ## folium choropleth mapping\n",
    "    \n",
    "    ### basemap\n",
    "    m = folium.Map(location=[39.8, -98.5],tiles='cartodbpositron', prefer_canvas = True, zoom_start = 3)\n",
    "    ### choropleth\n",
    "    choro = folium.Choropleth(geo_data=\"output.geojson\",\n",
    "                              data = outcsv,\n",
    "                              name = 'Choropleth',\n",
    "                              columns = ['FIPS','val'],\n",
    "                              key_on='properties.FIPS',\n",
    "                              fill_color='YlGn', fill_opacity=0.5, line_opacity=0.5,\n",
    "                              legend_name = com_input + \" flow destinations, measured in kilograms\"\n",
    "                             ).add_to(m)\n",
    "    ### hover functionality\n",
    "    choro.geojson.add_child(folium.features.GeoJsonTooltip(\n",
    "        fields=['name','val'],\n",
    "        aliases=['County name:','Value (kg):']\n",
    "    ))\n",
    "    ### red outline for the selected county \n",
    "    polygon = gdf.loc[gdf.FIPS == fipsdict.get(geo_input), ['geometry']]\n",
    "    folium.GeoJson(polygon, tooltip=geo_input, name=geo_input, \n",
    "                   style_function=lambda x: {'color':'#ff0000','fillColor': 'none'}\n",
    "                  ).add_to(m)\n",
    "    ### allowing layers to be turned off\n",
    "    folium.LayerControl().add_to(m)\n",
    "    ### saving to an html and opening in web browser\n",
    "    m.save('folium_project.html')\n",
    "    webbrowser.open('file://' + os.path.realpath('folium_project.html'))"
   ]
  },
  {
   "cell_type": "markdown",
   "metadata": {},
   "source": [
    "## Exploratory Spatial Data Analysis\n",
    "\n",
    "For some additional analysis, I decided to conduct some exploratory spatial data analysis. Below, you can see how I constructed a contiguity matrix using the food flow data."
   ]
  },
  {
   "cell_type": "code",
   "execution_count": 11,
   "metadata": {},
   "outputs": [
    {
     "name": "stderr",
     "output_type": "stream",
     "text": [
      "C:\\Users\\Brian\\Anaconda\\lib\\site-packages\\pysal\\lib\\weights\\weights.py:168: UserWarning:\n",
      "\n",
      "There are 20 disconnected observations \n",
      "  Island ids: 02050, 02070, 02150, 02164, 02170, 02180, 02188, 02220, 02240, 02261, 02290, 13025, 13319, 21203, 26039, 48105, 48267, 54007, 54093, 54109\n",
      "\n"
     ]
    }
   ],
   "source": [
    "# creating a contiguity matrix\n",
    "## creating a list of unique counties and setting empty dictionaries \n",
    "uni = dbi.des.unique()\n",
    "neigh = {}\n",
    "weight = {}\n",
    "## for each unique origin county, finding its destination counties and total values\n",
    "for i in range(len(uni)):\n",
    "    try: \n",
    "        ## if the county is an origin county, this code will run \n",
    "        orilim = dbi[dbi.ori == uni[i]]\n",
    "        ## converting columns to lists\n",
    "        des = orilim.des.tolist()\n",
    "        tot = orilim.total.tolist()\n",
    "    except:\n",
    "        ## if the county is only a destination county, this code will run\n",
    "        des = ['NaN']\n",
    "        tot = ['NaN']\n",
    "    finally:\n",
    "        ## adding lists as dictionary values\n",
    "        neigh[uni[i]] = des\n",
    "        weight[uni[i]] = tot\n",
    "## using the two dictionaries to construct a weights matrix\n",
    "w = weights.W(neigh, weight)"
   ]
  },
  {
   "cell_type": "markdown",
   "metadata": {},
   "source": [
    "Here is a histrogram of the matrix cardinalities. The mean ~51.6, and the standard deviation is ~57.7."
   ]
  },
  {
   "cell_type": "code",
   "execution_count": 12,
   "metadata": {},
   "outputs": [
    {
     "data": {
      "text/plain": [
       "(51.59143222506394, 57.736219227413265)"
      ]
     },
     "execution_count": 12,
     "metadata": {},
     "output_type": "execute_result"
    },
    {
     "data": {
      "image/png": "[encoded data removed]",
      "text/plain": [
       "<Figure size 432x288 with 1 Axes>"
      ]
     },
     "metadata": {
      "needs_background": "light"
     },
     "output_type": "display_data"
    }
   ],
   "source": [
    "pd.Series(w.cardinalities).plot.hist(bins=50)\n",
    "pd.Series(w.cardinalities).mean(), pd.Series(w.cardinalities).std()"
   ]
  },
  {
   "cell_type": "markdown",
   "metadata": {},
   "source": [
    "To do: Find a way to get the weights matrix properly indexed with the `gdf` shapefile in order to conduct more spatial analysis. Here is code that does not work:"
   ]
  },
  {
   "cell_type": "code",
   "execution_count": 13,
   "metadata": {},
   "outputs": [
    {
     "name": "stdout",
     "output_type": "stream",
     "text": [
      "Error\n"
     ]
    },
    {
     "data": {
      "image/png": "[encoded data removed]",
      "text/plain": [
       "<Figure size 432x288 with 1 Axes>"
      ]
     },
     "metadata": {
      "needs_background": "light"
     },
     "output_type": "display_data"
    }
   ],
   "source": [
    "## limiting gdf by dropping FIPS outside the weights matrix\n",
    "gdf_df = pd.DataFrame(data= {'FIPS': uni})\n",
    "gdf_df['y'] = 1\n",
    "gdf_lim = gdf.merge(gdf_df, how = 'left', on='FIPS')\n",
    "gdf_lim = gdf_lim[gdf_lim.y == 1]\n",
    "gdf_lim = gdf_lim.drop('y', axis = 1)\n",
    "\n",
    "try: w.plot(gdf_lim)\n",
    "except: print('Error')"
   ]
  }
 ],
 "metadata": {
  "kernelspec": {
   "display_name": "Python 3",
   "language": "python",
   "name": "python3"
  },
  "language_info": {
   "codemirror_mode": {
    "name": "ipython",
    "version": 3
   },
   "file_extension": ".py",
   "mimetype": "text/x-python",
   "name": "python",
   "nbconvert_exporter": "python",
   "pygments_lexer": "ipython3",
   "version": "3.7.3"
  }
 },
 "nbformat": 4,
 "nbformat_minor": 2
}
