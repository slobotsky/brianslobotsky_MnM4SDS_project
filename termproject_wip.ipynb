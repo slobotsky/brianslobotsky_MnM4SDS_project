{
 "cells": [
  {
   "cell_type": "code",
   "execution_count": 2,
   "metadata": {},
   "outputs": [],
   "source": [
    "import pandas as pd\n",
    "import geopandas as gp\n",
    "import numpy as np\n",
    "import cenpy\n",
    "import matplotlib.pyplot as plt\n",
    "from tkinter import *"
   ]
  },
  {
   "cell_type": "code",
   "execution_count": 5,
   "metadata": {},
   "outputs": [
    {
     "name": "stdout",
     "output_type": "stream",
     "text": [
      "['Live Animals and Fish', 'Cereal Grains (including seed)', 'Agricultural Products except Animal Feed, Cereal Grains, and Forage Products', 'Animal Feed, Eggs, Honey, and Other Products of Animal Origin', 'Meat, Poultry, Fish, Seafood, and Their Preparations', 'Milled Grain Products and Preparations, and Bakery Products', 'Other Prepared Foodstuffs, Fats and Oils', 'Total']\n"
     ]
    }
   ],
   "source": [
    "## paper data\n",
    "f = 'erl_14_8_084011_sd_3.csv'\n",
    "db = pd.read_csv(f)\n",
    "\n",
    "sctg_dict = {'Live Animals and Fish':'sctg_1', \n",
    "             'Cereal Grains (including seed)':'sctg_2',\n",
    "             'Agricultural Products except Animal Feed, Cereal Grains, and Forage Products':'sctg_3',\n",
    "             'Animal Feed, Eggs, Honey, and Other Products of Animal Origin':'sctg_4',\n",
    "             'Meat, Poultry, Fish, Seafood, and Their Preparations':'sctg_5',\n",
    "             'Milled Grain Products and Preparations, and Bakery Products':'sctg_6',\n",
    "             'Other Prepared Foodstuffs, Fats and Oils':'sctg_7',\n",
    "             'Total':'total'}\n",
    "ckeys = list(sctg_dict.keys())\n",
    "\n",
    "## changing fips codes into five digits\n",
    "a = []\n",
    "for i in db['ori']:\n",
    "    i = str(i)\n",
    "    i = i.zfill(5)\n",
    "    a.append(i)\n",
    "db['ori'] = a\n",
    "\n",
    "b = []\n",
    "for i in db['des']:\n",
    "    i = str(i)\n",
    "    i = i.zfill(5)\n",
    "    b.append(i)\n",
    "db['des'] = b\n",
    "\n",
    "## census data \n",
    "\n",
    "fips = cenpy.explorer.fips_table(\"county\")\n",
    "\n",
    "## creating a fips code column\n",
    "fips[5] = \"\"\n",
    "fips[6] = \"\"\n",
    "\n",
    "a = [] \n",
    "for i in fips[1]:\n",
    "    i = str(i)\n",
    "    i = i.zfill(2)\n",
    "    a.append(i)\n",
    "fips[5] = a\n",
    "\n",
    "b = []\n",
    "for i in fips[2]:\n",
    "    i = str(i)\n",
    "    i = i.zfill(3)\n",
    "    b.append(i)\n",
    "fips[6] = b\n",
    "\n",
    "fips[7] = fips[5] + fips[6]\n",
    "\n",
    "fips.columns = ['state','col2','col3','name','col5','FIPS_state','FIPS_county','FIPS']\n",
    "fips.drop(['col2','col3','col5'],axis=1, inplace = True)\n",
    "fips = fips[fips.FIPS_state < '57']\n",
    "\n",
    "fips['fullname'] = fips['name'] + \", \" + fips['state']\n",
    "fipsdict = dict(zip(fips['fullname'],fips['FIPS']))\n",
    "dkeys = list(fipsdict.keys())\n",
    "\n",
    "gdf = gp.read_file(\"counties.shp\")\n",
    "print(ckeys)"
   ]
  },
  {
   "cell_type": "code",
   "execution_count": 24,
   "metadata": {
    "scrolled": false
   },
   "outputs": [],
   "source": [
    "# defining a function to convert user inputs into geojson file\n",
    "def select_county(geo_input, dir_input, com_input):\n",
    "    ## defining \"geo_val\" as the fips equivalent of a user inputted county\n",
    "    geo_val = fipsdict.get(geo_input)\n",
    "    ## defining \"com_val\" as the sctg column equivalent of a user inputted sctg category\n",
    "    com_val = sctg_dict.get(com_input)\n",
    "    ## limit to origin db val (single county selection)\n",
    "    limval = db[db.ori == geo_val]\n",
    "    if dir_input == 'Origin':\n",
    "        ## grouping by destination (destination counties for one origin county)\n",
    "        limval = limval.groupby(['des'])[com_val].sum()\n",
    "    else:\n",
    "        ## grouping by origin (origin counties for one destination county)\n",
    "        limval = limval.groupby(['ori'])[com_val].sum()  \n",
    "    ## converting back to dataframe\n",
    "    dfval = pd.DataFrame({'FIPS':limval.index, com_val:limval.values})\n",
    "    ## join total value to gdf by the FIPS column\n",
    "    gdf_new = gdf.merge(dfval, how = 'left', on='FIPS')\n",
    "    \n",
    "    fig, ax = plt.subplots(figsize=(10, 20))\n",
    "    vmax = gdf_new[com_val].max()\n",
    "    ax.set(xlim = (-175,-50))\n",
    "    gdf_new.plot(column=com_val,cmap='Blues',ax=ax,vmin = 0,vmax = vmax)\n",
    "    ## gdf to geojson\n",
    "    #gdf_new.to_file(\"output.json\", driver=\"GeoJSON\")\n",
    "\n",
    "#m = folium.Map(location=[39.8, -98.5], zoom_start = 2)\n",
    "#folium.GeoJson(\"output.json\").add_to(m)\n",
    "#m"
   ]
  },
  {
   "cell_type": "code",
   "execution_count": 25,
   "metadata": {},
   "outputs": [
    {
     "name": "stdout",
     "output_type": "stream",
     "text": [
      "You are viewing Total flows with Hale County, AL as the destination county\n"
     ]
    }
   ],
   "source": [
    "## User interface using the tkinter module ##\n",
    "\n",
    "# setting the window design\n",
    "root = Tk()\n",
    "\n",
    "mainframe = Frame(root)\n",
    "mainframe.grid(column=0,row=0,sticky=(N,W,E,S))\n",
    "mainframe.columnconfigure(0, weight = 1)\n",
    "mainframe.rowconfigure(0, weight = 1)\n",
    "mainframe.pack(pady = 100, padx = 100)\n",
    "\n",
    "# three user inputs\n",
    "## first, choosing a county\n",
    "### setting the variable\n",
    "tkvar_geo = StringVar(root)\n",
    "tkvar_geo.set('')                ## no default value\n",
    "choices_geo = dkeys              ## list of items are the keys from the fips dictionary\n",
    "\n",
    "### formatting \n",
    "popupMenu_geo = OptionMenu(mainframe, tkvar_geo, *choices_geo)\n",
    "popupMenu_geo.grid(row = 0, column = 1, sticky = W)\n",
    "Label(mainframe, text=\"Select a county:\").grid(row = 0, column = 0, sticky = W)\n",
    "\n",
    "## second, switching between \"origin\" and \"destination\"\n",
    "### setting the variable\n",
    "tkvar_dir = StringVar(root)\n",
    "tkvar_dir.set('Origin')             ## setting origin as default\n",
    "choices_dir = ['Origin', 'Destination']\n",
    "\n",
    "### formatting\n",
    "popupMenu_dir = OptionMenu(mainframe, tkvar_dir, *choices_dir)\n",
    "popupMenu_dir.grid(row = 2, column = 1, sticky = W)\n",
    "Label(mainframe, text=\"Change flow direction:\").grid(row = 2, column = 0, sticky = W)\n",
    "\n",
    "## third, selecting a SCTG category\n",
    "### setting the variable\n",
    "tkvar_com = StringVar(root)\n",
    "choices_com = ckeys                 ## list of items are the keys from the sctg dictionary\n",
    "tkvar_com.set('Total')              ## setting total as default\n",
    "\n",
    "### formatting\n",
    "popupMenu_com = OptionMenu(mainframe, tkvar_com, *choices_com)\n",
    "popupMenu_com.grid(row = 4, column = 1, sticky = W)\n",
    "Label(mainframe, text=\"Select a commodity category:\").grid(row = 4, column = 0, sticky = W)\n",
    "\n",
    "# adding window title and exit button\n",
    "root.title('Input Window')\n",
    "exitButton = Button(root, text = 'Done', command = root.destroy)\n",
    "exitButton.pack(side = 'bottom')\n",
    "root.mainloop()\n",
    "\n",
    "# assigning user inputs to variables\n",
    "geo_input = tkvar_geo.get()\n",
    "dir_input = tkvar_dir.get()\n",
    "com_input = tkvar_com.get()\n",
    "\n",
    "# message to user showing the final selection\n",
    "print('You are viewing {0} flows with {1} as the {2} county'.format(com_input, geo_input, dir_input.lower()))"
   ]
  },
  {
   "cell_type": "code",
   "execution_count": 26,
   "metadata": {},
   "outputs": [
    {
     "data": {
      "image/png": "[encoded data removed]",
      "text/plain": [
       "<Figure size 720x1440 with 1 Axes>"
      ]
     },
     "metadata": {
      "needs_background": "light"
     },
     "output_type": "display_data"
    }
   ],
   "source": [
    "select_county(geo_input, dir_input, com_input)"
   ]
  },
  {
   "cell_type": "code",
   "execution_count": 27,
   "metadata": {
    "collapsed": true
   },
   "outputs": [
    {
     "ename": "TypeError",
     "evalue": "__init__() missing 1 required positional argument: 'object_path'",
     "output_type": "error",
     "traceback": [
      "\u001b[1;31m---------------------------------------------------------------------------\u001b[0m",
      "\u001b[1;31mTypeError\u001b[0m                                 Traceback (most recent call last)",
      "\u001b[1;32m<ipython-input-27-4ba2ceddb02c>\u001b[0m in \u001b[0;36m<module>\u001b[1;34m\u001b[0m\n\u001b[0;32m      5\u001b[0m \u001b[1;33m\u001b[0m\u001b[0m\n\u001b[0;32m      6\u001b[0m \u001b[0mm\u001b[0m \u001b[1;33m=\u001b[0m \u001b[0mfolium\u001b[0m\u001b[1;33m.\u001b[0m\u001b[0mMap\u001b[0m\u001b[1;33m(\u001b[0m\u001b[0mlocation\u001b[0m\u001b[1;33m=\u001b[0m\u001b[1;33m[\u001b[0m\u001b[1;36m39.8\u001b[0m\u001b[1;33m,\u001b[0m \u001b[1;33m-\u001b[0m\u001b[1;36m98.5\u001b[0m\u001b[1;33m]\u001b[0m\u001b[1;33m,\u001b[0m \u001b[0mzoom_start\u001b[0m \u001b[1;33m=\u001b[0m \u001b[1;36m2\u001b[0m\u001b[1;33m)\u001b[0m\u001b[1;33m\u001b[0m\u001b[1;33m\u001b[0m\u001b[0m\n\u001b[1;32m----> 7\u001b[1;33m \u001b[0mfolium\u001b[0m\u001b[1;33m.\u001b[0m\u001b[0mTopoJson\u001b[0m\u001b[1;33m(\u001b[0m\u001b[0mopen\u001b[0m\u001b[1;33m(\u001b[0m\u001b[1;34m'counties.geojson'\u001b[0m\u001b[1;33m)\u001b[0m\u001b[1;33m)\u001b[0m\u001b[1;33m.\u001b[0m\u001b[0madd_to\u001b[0m\u001b[1;33m(\u001b[0m\u001b[0mm\u001b[0m\u001b[1;33m)\u001b[0m\u001b[1;33m\u001b[0m\u001b[1;33m\u001b[0m\u001b[0m\n\u001b[0m\u001b[0;32m      8\u001b[0m \u001b[0mm\u001b[0m\u001b[1;33m\u001b[0m\u001b[1;33m\u001b[0m\u001b[0m\n\u001b[0;32m      9\u001b[0m \u001b[1;33m\u001b[0m\u001b[0m\n",
      "\u001b[1;31mTypeError\u001b[0m: __init__() missing 1 required positional argument: 'object_path'"
     ]
    }
   ],
   "source": [
    "## folium testing\n",
    "\n",
    "import folium\n",
    "from IPython.display import display\n",
    "\n",
    "county_geo = 'counties.geojson'\n",
    "\n",
    "m = folium.Map(location=[39.8, -98.5], zoom_start = 2)\n",
    "folium.TopoJson(open('counties.geojson')).add_to(m)\n",
    "m\n",
    "\n",
    "## test\n",
    "#m.choropleth(\n",
    "#    geo_data=county_geo,\n",
    "#    name = 'choropleth',\n",
    "#    data = fips,\n",
    "#    columns = ['FIPS_state','FIPS_county'],\n",
    "#    key_on = 'FIPS',\n",
    "#    fill_color = 'YlGn',\n",
    "#    fill_opacity = 0.7,\n",
    "#    line_opacity = 0.2,\n",
    "#    legend_name = 'name')\n",
    "\n",
    "#folium.LayerControl().add_to(m)"
   ]
  }
 ],
 "metadata": {
  "kernelspec": {
   "display_name": "Python 3",
   "language": "python",
   "name": "python3"
  },
  "language_info": {
   "codemirror_mode": {
    "name": "ipython",
    "version": 3
   },
   "file_extension": ".py",
   "mimetype": "text/x-python",
   "name": "python",
   "nbconvert_exporter": "python",
   "pygments_lexer": "ipython3",
   "version": "3.7.3"
  }
 },
 "nbformat": 4,
 "nbformat_minor": 2
}
